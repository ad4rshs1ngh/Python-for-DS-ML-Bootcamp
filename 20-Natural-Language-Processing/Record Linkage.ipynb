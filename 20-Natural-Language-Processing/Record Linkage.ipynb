{
 "cells": [
  {
   "cell_type": "code",
   "execution_count": 1,
   "id": "c7c61074-d994-4853-8518-326ac6c400b0",
   "metadata": {},
   "outputs": [
    {
     "name": "stdout",
     "output_type": "stream",
     "text": [
      "Looking in indexes: https://nexus.corp.indeed.com/repository/pypi/simple\n",
      "Collecting recordlinkage\n",
      "  Downloading https://nexus.corp.indeed.com/repository/pypi/packages/recordlinkage/0.16/recordlinkage-0.16-py3-none-any.whl (926 kB)\n",
      "\u001b[2K     \u001b[90m━━━━━━━━━━━━━━━━━━━━━━━━━━━━━━━━━━━━━━━\u001b[0m \u001b[32m926.9/926.9 kB\u001b[0m \u001b[31m7.0 MB/s\u001b[0m eta \u001b[36m0:00:00\u001b[0m00:01\u001b[0m00:01\u001b[0m\n",
      "\u001b[?25hRequirement already satisfied: jellyfish>=1 in /opt/anaconda3/lib/python3.12/site-packages (from recordlinkage) (1.0.1)\n",
      "Requirement already satisfied: numpy>=1.13 in /opt/anaconda3/lib/python3.12/site-packages (from recordlinkage) (1.26.4)\n",
      "Requirement already satisfied: pandas<3,>=1 in /opt/anaconda3/lib/python3.12/site-packages (from recordlinkage) (2.2.2)\n",
      "Requirement already satisfied: scipy>=1 in /opt/anaconda3/lib/python3.12/site-packages (from recordlinkage) (1.13.1)\n",
      "Requirement already satisfied: scikit-learn>=1 in /opt/anaconda3/lib/python3.12/site-packages (from recordlinkage) (1.4.2)\n",
      "Requirement already satisfied: joblib in /opt/anaconda3/lib/python3.12/site-packages (from recordlinkage) (1.4.2)\n",
      "Requirement already satisfied: python-dateutil>=2.8.2 in /opt/anaconda3/lib/python3.12/site-packages (from pandas<3,>=1->recordlinkage) (2.9.0.post0)\n",
      "Requirement already satisfied: pytz>=2020.1 in /opt/anaconda3/lib/python3.12/site-packages (from pandas<3,>=1->recordlinkage) (2024.1)\n",
      "Requirement already satisfied: tzdata>=2022.7 in /opt/anaconda3/lib/python3.12/site-packages (from pandas<3,>=1->recordlinkage) (2023.3)\n",
      "Requirement already satisfied: threadpoolctl>=2.0.0 in /opt/anaconda3/lib/python3.12/site-packages (from scikit-learn>=1->recordlinkage) (2.2.0)\n",
      "Requirement already satisfied: six>=1.5 in /opt/anaconda3/lib/python3.12/site-packages (from python-dateutil>=2.8.2->pandas<3,>=1->recordlinkage) (1.16.0)\n",
      "Installing collected packages: recordlinkage\n",
      "Successfully installed recordlinkage-0.16\n"
     ]
    }
   ],
   "source": [
    "!pip install recordlinkage\n"
   ]
  },
  {
   "cell_type": "code",
   "execution_count": 3,
   "id": "7cff02af-b6c7-4def-92f9-b984e33f6dd8",
   "metadata": {},
   "outputs": [],
   "source": [
    "import pandas as pd\n",
    "import recordlinkage"
   ]
  },
  {
   "cell_type": "code",
   "execution_count": 5,
   "id": "80b8f851-15eb-4aba-ad02-9dd5cc3eda30",
   "metadata": {},
   "outputs": [],
   "source": [
    "# Sample dataset 1\n",
    "df1 = pd.DataFrame({\n",
    "    'id': [1, 2, 3],\n",
    "    'name': ['John Doe', 'Jane Smith', 'Alice Brown'],\n",
    "    'address': ['123 Elm St', '456 Oak St', '789 Pine St']\n",
    "})\n",
    "\n",
    "# Sample dataset 2\n",
    "df2 = pd.DataFrame({\n",
    "    'id': [4, 5, 6],\n",
    "    'name': ['Jon Doe', 'J. Smith', 'Alice B.'],\n",
    "    'address': ['123 Elm Street', '456 Oak St', '789 Pine St']\n",
    "})\n"
   ]
  },
  {
   "cell_type": "code",
   "execution_count": 7,
   "id": "8d180889-92a2-4b52-908a-149366d16ff9",
   "metadata": {},
   "outputs": [
    {
     "name": "stdout",
     "output_type": "stream",
     "text": [
      "MultiIndex([(1, 1),\n",
      "            (2, 2)],\n",
      "           )\n"
     ]
    }
   ],
   "source": [
    "indexer = recordlinkage.Index()\n",
    "indexer.block('address')  # Only compare records with the same address\n",
    "candidate_links = indexer.index(df1, df2)\n",
    "print(candidate_links)\n"
   ]
  },
  {
   "cell_type": "code",
   "execution_count": 9,
   "id": "dd03227b-c4ed-432e-9cb9-e573c8ba7ecb",
   "metadata": {},
   "outputs": [
    {
     "name": "stdout",
     "output_type": "stream",
     "text": [
      "     name_similarity  address_match\n",
      "1 1              0.0              1\n",
      "2 2              0.0              1\n"
     ]
    }
   ],
   "source": [
    "compare = recordlinkage.Compare()\n",
    "\n",
    "# Compare names using string similarity (Levenshtein)\n",
    "compare.string('name', 'name', method='levenshtein', threshold=0.8, label='name_similarity')\n",
    "\n",
    "# Compare addresses using exact match\n",
    "compare.exact('address', 'address', label='address_match')\n",
    "\n",
    "comparison_vectors = compare.compute(candidate_links, df1, df2)\n",
    "print(comparison_vectors)\n"
   ]
  },
  {
   "cell_type": "code",
   "execution_count": 11,
   "id": "30f831ea-e4af-4a88-b91a-f9a0e37a60d1",
   "metadata": {},
   "outputs": [
    {
     "name": "stdout",
     "output_type": "stream",
     "text": [
      "Empty DataFrame\n",
      "Columns: [name_similarity, address_match]\n",
      "Index: []\n"
     ]
    }
   ],
   "source": [
    "# Set a rule for matching: If address is an exact match and name similarity is high\n",
    "matches = comparison_vectors[(comparison_vectors['name_similarity'] > 0.8) & (comparison_vectors['address_match'] == 1)]\n",
    "print(matches)\n"
   ]
  },
  {
   "cell_type": "code",
   "execution_count": null,
   "id": "d88648e1-16b5-4de7-b04e-ed7fb305c291",
   "metadata": {},
   "outputs": [],
   "source": []
  }
 ],
 "metadata": {
  "kernelspec": {
   "display_name": "Python 3 (ipykernel)",
   "language": "python",
   "name": "python3"
  },
  "language_info": {
   "codemirror_mode": {
    "name": "ipython",
    "version": 3
   },
   "file_extension": ".py",
   "mimetype": "text/x-python",
   "name": "python",
   "nbconvert_exporter": "python",
   "pygments_lexer": "ipython3",
   "version": "3.12.2"
  }
 },
 "nbformat": 4,
 "nbformat_minor": 5
}
